{
  "nbformat": 4,
  "nbformat_minor": 0,
  "metadata": {
    "colab": {
      "name": "pratham pitty.ipynb",
      "provenance": []
    },
    "kernelspec": {
      "name": "python3",
      "display_name": "Python 3"
    },
    "language_info": {
      "name": "python"
    }
  },
  "cells": [
    {
      "cell_type": "markdown",
      "metadata": {
        "id": "wPbpAhBc_NcX"
      },
      "source": [
        "#link for orignal file \n",
        "https://colab.research.google.com/drive/1LyYOKN1ciMHbe3l9XJPioA4TfceP3l4-?usp=sharing #"
      ]
    },
    {
      "cell_type": "code",
      "metadata": {
        "id": "LXqJfuBP5Fk_"
      },
      "source": [
        "import hashlib"
      ],
      "execution_count": 6,
      "outputs": []
    },
    {
      "cell_type": "markdown",
      "metadata": {
        "id": "fe0ml4Z95J94"
      },
      "source": [
        "1) write a program in python to generate MDS of Strings data "
      ]
    },
    {
      "cell_type": "code",
      "metadata": {
        "colab": {
          "base_uri": "https://localhost:8080/"
        },
        "id": "VdzglFWk7Acl",
        "outputId": "7f70fa20-1d7b-4320-e5b8-54f31e1668f7"
      },
      "source": [
        "def md5_func():\n",
        "  data=input('Enter String To be Hashed Using Message Digest 5(MD5) ALgorithm-->') #taking i/p frm user\n",
        "  result=data.encode(\"utf-8\") \n",
        "  \n",
        "  #A format in the Unicode coding system that uses from one to four bytes.\n",
        "  \n",
        "  # When coding the English language, only one byte is used per character like regular ASCII encoding. \n",
        "  \n",
        "  hashvalue=hashlib.md5(result)\n",
        "  hexValue=hashvalue.hexdigest()\n",
        "  print(hexValue)\n",
        "  return\n",
        "\n",
        "md5_func()"
      ],
      "execution_count": 4,
      "outputs": [
        {
          "output_type": "stream",
          "text": [
            "Enter String To be Hashed Using Message Digest 5(MD5) ALgorithm-->pratham pitty\n",
            "7010de5dd209aef3a2b787d3c75951fb\n"
          ],
          "name": "stdout"
        }
      ]
    },
    {
      "cell_type": "markdown",
      "metadata": {
        "id": "hgJxxTKk8RfW"
      },
      "source": [
        "2)write a program in python to generate hashes of strings data using 3  algorithns from hashlib"
      ]
    },
    {
      "cell_type": "code",
      "metadata": {
        "colab": {
          "base_uri": "https://localhost:8080/"
        },
        "id": "tWvPBs4P84sW",
        "outputId": "4b4a2603-a5bc-4caf-d13f-a889d6607d41"
      },
      "source": [
        "def SHA256_func():\n",
        "  data=input('Enter Sting To be Hashed Using Secure Hash Algorithm-256(SHA-256)-->')\n",
        "  encoded=data.encode(\"utf-8\") \n",
        "  hashvalue=hashlib.sha256(encoded)\n",
        "  hexvalue=hashvalue.hexdigest()\n",
        "  print(hexvalue)\n",
        "  return\n",
        "\n",
        "SHA256_func()\n",
        "\n",
        "def SHA512_func():\n",
        "  data=input('Enter Sting To be Hashed Using Secure Hash Algorithm-512(SHA-512)-->')\n",
        "  encoded=data.encode(\"utf-8\") \n",
        "  hashvalue=hashlib.sha512(encoded) #sha512\n",
        "  hexvalue=hashvalue.hexdigest()\n",
        "  print(hexvalue)\n",
        "  return\n",
        "  \n",
        "SHA512_func()\n",
        "\n",
        "def SHA384_func():\n",
        "  data=input('Enter Sting To be Hashed Using Secure Hash Algorithm-384(SHA-384)-->')\n",
        "  encoded=data.encode(\"utf-8\") \n",
        "\n",
        "  hashvalue=hashlib.sha384(encoded) #sha384\n",
        "  hexvalue=hashvalue.hexdigest()\n",
        "  print(hexvalue)\n",
        "  return\n",
        "  \n",
        "SHA384_func()"
      ],
      "execution_count": 5,
      "outputs": [
        {
          "output_type": "stream",
          "text": [
            "Enter Sting To be Hashed Using Secure Hash Algorithm-256(SHA-256)-->pratham pitty\n",
            "d5fecaf395e0f68d6e4973fe054bf5147bb3ffff1e398e54b86fda5973a58fa0\n",
            "Enter Sting To be Hashed Using Secure Hash Algorithm-512(SHA-512)-->pratham pitty\n",
            "f97eefc8616144789cf7c18085ab8dc8e3e02fb22a0b137766e18c9ac23a6a14ff5235e03f45a468cdf0b923236e6713af1fa7c15034e94cd51de5c451afa2b6\n",
            "Enter Sting To be Hashed Using Secure Hash Algorithm-384(SHA-384)-->pratham pitty\n",
            "e8d2a483d42b23c9e814d13ea77a57fb94c7e5080172a0599d2b8bdc59846cc87c5d58f5358340ce42b6b891190c4073\n"
          ],
          "name": "stdout"
        }
      ]
    },
    {
      "cell_type": "markdown",
      "metadata": {
        "id": "hOiKG_Jv8Nr_"
      },
      "source": [
        "3)add sulting & iterations to your hashes "
      ]
    }
  ]
}